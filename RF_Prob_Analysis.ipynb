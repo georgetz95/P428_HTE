{
 "cells": [
  {
   "cell_type": "code",
   "execution_count": 1,
   "id": "e170ab2d",
   "metadata": {},
   "outputs": [],
   "source": [
    "import numpy as np\n",
    "import pandas as pd"
   ]
  },
  {
   "cell_type": "code",
   "execution_count": 2,
   "id": "2358b61f",
   "metadata": {},
   "outputs": [],
   "source": [
    "rf_prob = pd.read_csv('newTestRFProb.csv')"
   ]
  },
  {
   "cell_type": "code",
   "execution_count": 4,
   "id": "d864aaaf",
   "metadata": {},
   "outputs": [
    {
     "data": {
      "text/html": [
       "<div>\n",
       "<style scoped>\n",
       "    .dataframe tbody tr th:only-of-type {\n",
       "        vertical-align: middle;\n",
       "    }\n",
       "\n",
       "    .dataframe tbody tr th {\n",
       "        vertical-align: top;\n",
       "    }\n",
       "\n",
       "    .dataframe thead th {\n",
       "        text-align: right;\n",
       "    }\n",
       "</style>\n",
       "<table border=\"1\" class=\"dataframe\">\n",
       "  <thead>\n",
       "    <tr style=\"text-align: right;\">\n",
       "      <th></th>\n",
       "      <th>ID</th>\n",
       "      <th>Prob</th>\n",
       "    </tr>\n",
       "  </thead>\n",
       "  <tbody>\n",
       "    <tr>\n",
       "      <th>0</th>\n",
       "      <td>SAFE00013</td>\n",
       "      <td>0.45</td>\n",
       "    </tr>\n",
       "    <tr>\n",
       "      <th>1</th>\n",
       "      <td>SAFE00032</td>\n",
       "      <td>0.16</td>\n",
       "    </tr>\n",
       "    <tr>\n",
       "      <th>2</th>\n",
       "      <td>SAFE00044</td>\n",
       "      <td>0.18</td>\n",
       "    </tr>\n",
       "    <tr>\n",
       "      <th>3</th>\n",
       "      <td>SAFE00072</td>\n",
       "      <td>0.17</td>\n",
       "    </tr>\n",
       "    <tr>\n",
       "      <th>4</th>\n",
       "      <td>SAFE00115</td>\n",
       "      <td>0.71</td>\n",
       "    </tr>\n",
       "  </tbody>\n",
       "</table>\n",
       "</div>"
      ],
      "text/plain": [
       "          ID  Prob\n",
       "0  SAFE00013  0.45\n",
       "1  SAFE00032  0.16\n",
       "2  SAFE00044  0.18\n",
       "3  SAFE00072  0.17\n",
       "4  SAFE00115  0.71"
      ]
     },
     "execution_count": 4,
     "metadata": {},
     "output_type": "execute_result"
    }
   ],
   "source": [
    "rf_prob.head(5)"
   ]
  },
  {
   "cell_type": "code",
   "execution_count": 5,
   "id": "ca3d66a3",
   "metadata": {},
   "outputs": [
    {
     "data": {
      "text/plain": [
       "count    1150.000000\n",
       "mean        0.319600\n",
       "std         0.201542\n",
       "min         0.000000\n",
       "25%         0.150000\n",
       "50%         0.275000\n",
       "75%         0.470000\n",
       "max         0.930000\n",
       "Name: Prob, dtype: float64"
      ]
     },
     "execution_count": 5,
     "metadata": {},
     "output_type": "execute_result"
    }
   ],
   "source": [
    "rf_prob['Prob'].describe()"
   ]
  },
  {
   "cell_type": "code",
   "execution_count": 7,
   "id": "6d450995",
   "metadata": {},
   "outputs": [],
   "source": [
    "# 0, 0.15, 0.275, 0.47, 0.93\n",
    "\n",
    "rf_prob['groups'] = pd.cut(rf_prob['Prob'], bins=[0, 0.15, 0.275, 0.47, 0.93], labels = ['low','mid-low','mid-high','high'])"
   ]
  },
  {
   "cell_type": "code",
   "execution_count": 9,
   "id": "ecb33df2",
   "metadata": {
    "scrolled": true
   },
   "outputs": [
    {
     "data": {
      "text/plain": [
       "mid-high    297\n",
       "low         294\n",
       "mid-low     278\n",
       "high        278\n",
       "Name: groups, dtype: int64"
      ]
     },
     "execution_count": 9,
     "metadata": {},
     "output_type": "execute_result"
    }
   ],
   "source": [
    "rf_prob['groups'].value_counts()"
   ]
  },
  {
   "cell_type": "code",
   "execution_count": 10,
   "id": "210ed5dc",
   "metadata": {},
   "outputs": [],
   "source": [
    "rf_prob.to_csv('newRF_Prob_0510.csv')"
   ]
  },
  {
   "cell_type": "code",
   "execution_count": 12,
   "id": "d925d350",
   "metadata": {},
   "outputs": [
    {
     "data": {
      "text/plain": [
       "<AxesSubplot:>"
      ]
     },
     "execution_count": 12,
     "metadata": {},
     "output_type": "execute_result"
    },
    {
     "data": {
      "image/png": "[encoded data removed]",
      "text/plain": [
       "<Figure size 432x288 with 1 Axes>"
      ]
     },
     "metadata": {
      "needs_background": "light"
     },
     "output_type": "display_data"
    }
   ],
   "source": [
    "rf_prob.boxplot(column = ['Prob'])"
   ]
  },
  {
   "cell_type": "code",
   "execution_count": null,
   "id": "2fee2432",
   "metadata": {},
   "outputs": [],
   "source": []
  }
 ],
 "metadata": {
  "kernelspec": {
   "display_name": "Python 3 (ipykernel)",
   "language": "python",
   "name": "python3"
  },
  "language_info": {
   "codemirror_mode": {
    "name": "ipython",
    "version": 3
   },
   "file_extension": ".py",
   "mimetype": "text/x-python",
   "name": "python",
   "nbconvert_exporter": "python",
   "pygments_lexer": "ipython3",
   "version": "3.9.7"
  }
 },
 "nbformat": 4,
 "nbformat_minor": 5
}
